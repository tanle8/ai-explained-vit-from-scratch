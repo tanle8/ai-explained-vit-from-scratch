{
  "cells": [
    {
      "cell_type": "code",
      "execution_count": null,
      "metadata": {
        "id": "2ELrI6dWPgTV"
      },
      "outputs": [],
      "source": [
        "!git clone https://github.com/tanle8/ai-explained-vit-from-scratch.git\n"
      ]
    },
    {
      "cell_type": "code",
      "execution_count": null,
      "metadata": {
        "id": "0iglvZvKPnXH"
      },
      "outputs": [],
      "source": [
        "%cd ai-explained-vit-from-scratch\n",
        "\n",
        "!pip install -q -r requirements.txt"
      ]
    },
    {
      "cell_type": "code",
      "execution_count": null,
      "metadata": {
        "id": "5pV7PKpl-owk"
      },
      "outputs": [],
      "source": [
        "import os\n",
        "import json\n",
        "import torch\n",
        "from vit import ViTForClassfication\n",
        "\n",
        "from utils import visualize_images, visualize_attention, load_experiment\n",
        "import matplotlib.pyplot as plt"
      ]
    },
    {
      "cell_type": "code",
      "execution_count": null,
      "metadata": {
        "id": "pw0Yq4-cP8Pd"
      },
      "outputs": [],
      "source": [
        "!nvidia-smi\n"
      ]
    },
    {
      "cell_type": "code",
      "execution_count": null,
      "metadata": {
        "id": "n3Pxc6VxSokL"
      },
      "outputs": [],
      "source": [
        "!python train.py --exp-name \"vit_bs256_ep100_run_1\" --batch-size 256 --epochs 150 --lr 1e-2 --device cuda\n"
      ]
    },
    {
      "cell_type": "markdown",
      "metadata": {
        "id": "3DaCxS1-gaK5"
      },
      "source": [
        "## Result"
      ]
    },
    {
      "cell_type": "code",
      "execution_count": null,
      "metadata": {
        "id": "mwQxnN5Y-r8Q"
      },
      "outputs": [],
      "source": [
        "# Show some training images\n",
        "visualize_images()"
      ]
    },
    {
      "cell_type": "code",
      "execution_count": null,
      "metadata": {
        "id": "49RkKZdm-u1e"
      },
      "outputs": [],
      "source": [
        "# Load Experiment\n",
        "config, model, train_losses, test_losses, accuracies = load_experiment(\"vit_bs256_ep100_run_1\")\n"
      ]
    },
    {
      "cell_type": "code",
      "execution_count": null,
      "metadata": {
        "id": "kM4l5iVL-30K"
      },
      "outputs": [],
      "source": [
        "\n",
        "# Create subplots for losses and accuracy\n",
        "fig, (ax1, ax2) = plt.subplots(1, 2, figsize=(15, 5))\n",
        "\n",
        "# Train & Test Loss\n",
        "ax1.plot(train_losses, label=\"Train loss\")\n",
        "ax1.plot(test_losses, label=\"Test loss\")\n",
        "ax1.set_xlabel(\"Epoch\")\n",
        "ax1.set_ylabel(\"Loss\")\n",
        "ax1.legend()\n",
        "\n",
        "# Accuracy\n",
        "ax2.plot(accuracies)\n",
        "ax2.set_xlabel(\"Epoch\")\n",
        "ax2.set_ylabel(\"Accuracy\")\n",
        "\n",
        "plt.savefig(\"metrics.png\")\n",
        "plt.show()"
      ]
    },
    {
      "cell_type": "code",
      "execution_count": null,
      "metadata": {
        "id": "Tpn58QuFBHIw"
      },
      "outputs": [],
      "source": [
        "visualize_attention(model, \"attention.png\")"
      ]
    },
    {
      "cell_type": "markdown",
      "metadata": {
        "id": "2fdb5HXaDEIB"
      },
      "source": [
        "## Save result (Optional)"
      ]
    },
    {
      "cell_type": "code",
      "execution_count": null,
      "metadata": {
        "id": "iQww080LDGY1"
      },
      "outputs": [],
      "source": [
        "from google.colab import drive\n",
        "drive.mount('/content/drive')"
      ]
    },
    {
      "cell_type": "code",
      "execution_count": null,
      "metadata": {
        "id": "7ONvvaTdDG4t"
      },
      "outputs": [],
      "source": [
        "# Set a folder inside your Google Drive to store experiments\n",
        "DRIVE_BASE_DIR = \"/content/drive/MyDrive/vit_experiments\"\n",
        "os.makedirs(DRIVE_BASE_DIR, exist_ok=True)"
      ]
    },
    {
      "cell_type": "code",
      "execution_count": null,
      "metadata": {
        "id": "czP6851SDYQI"
      },
      "outputs": [],
      "source": [
        "# Save attention visualization\n",
        "attention_path = os.path.join(DRIVE_BASE_DIR, \"attention.png\")\n",
        "print(f\"Attention visualization saved to {attention_path}\")"
      ]
    },
    {
      "cell_type": "code",
      "execution_count": null,
      "metadata": {
        "id": "AvfDSqyDEpu8"
      },
      "outputs": [],
      "source": [
        "model_path = os.path.join(DRIVE_BASE_DIR, \"vit_final_model.pt\")\n",
        "\n",
        "# Save model weights\n",
        "torch.save(model.state_dict(), model_path)\n",
        "\n",
        "print(f\"Final model saved to {model_path}\")"
      ]
    },
    {
      "cell_type": "code",
      "execution_count": null,
      "metadata": {
        "id": "A40f1UmTE5PG"
      },
      "outputs": [],
      "source": [
        "# Save config\n",
        "config_path = os.path.join(DRIVE_BASE_DIR, \"config.json\")\n",
        "with open(config_path, 'w') as f:\n",
        "    json.dump(config, f, sort_keys=True, indent=4)\n",
        "\n",
        "# Save metrics\n",
        "metrics_data = {\n",
        "    \"train_losses\": train_losses,\n",
        "    \"test_losses\": test_losses,\n",
        "    \"accuracies\": accuracies\n",
        "}\n",
        "metrics_json_path = os.path.join(DRIVE_BASE_DIR, \"metrics.json\")\n",
        "with open(metrics_json_path, 'w') as f:\n",
        "    json.dump(metrics_data, f, sort_keys=True, indent=4)\n",
        "\n",
        "print(f\"Config and metrics saved to {DRIVE_BASE_DIR}\")"
      ]
    }
  ],
  "metadata": {
    "accelerator": "GPU",
    "colab": {
      "gpuType": "A100",
      "machine_shape": "hm",
      "provenance": []
    },
    "kernelspec": {
      "display_name": ".venv",
      "language": "python",
      "name": "python3"
    },
    "language_info": {
      "name": "python",
      "version": "3.11.5"
    }
  },
  "nbformat": 4,
  "nbformat_minor": 0
}
